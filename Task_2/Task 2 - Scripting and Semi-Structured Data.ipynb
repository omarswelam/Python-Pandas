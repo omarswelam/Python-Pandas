{
 "cells": [
  {
   "cell_type": "markdown",
   "metadata": {},
   "source": [
    "### Problem Descripition \n",
    "\n",
    "In 2012, URL shortening service Bitly partnered with the US government website USA.gov to provide a feed of anonymous data gathered from users who shorten links ending with .gov or .mil.\n",
    "\n",
    "The text file comes in JSON format and here are some keys and their description. They are only the most important ones for this task."
   ]
  },
  {
   "cell_type": "markdown",
   "metadata": {},
   "source": [
    "|key| description |\n",
    "|---|-----------|\n",
    "| a|Denotes information about the web browser and operating system|\n",
    "| tz | time zone |\n",
    "| r | URL the user come from |\n",
    "| u | URL where the user headed to |\n",
    "| t | Timestamp when the user start using the website in UNIX format |\n",
    "| hc | Timestamp when user exit the website in UNIX format |\n",
    "| cy | City from which the request intiated |\n",
    "| ll | Longitude and Latitude |"
   ]
  },
  {
   "cell_type": "markdown",
   "metadata": {},
   "source": [
    "In the cell, I tried to provide some helper code for better understanding and clearer vision\n",
    "\n",
    "-**HINT**- Those lines of code may be not helping at all with your task."
   ]
  },
  {
   "cell_type": "markdown",
   "metadata": {},
   "source": [
    "## Required"
   ]
  },
  {
   "cell_type": "markdown",
   "metadata": {},
   "source": [
    "Write a script can transform the JSON files to a DataFrame and commit each file to a sparete CSV file in the target directory and consider the following:\n",
    "\n",
    "        "
   ]
  },
  {
   "cell_type": "markdown",
   "metadata": {},
   "source": [
    "All CSV files must have the following columns\n",
    "- web_browser\n",
    "        The web browser that has requested the service\n",
    "- operating_sys\n",
    "        operating system that intiated this request\n",
    "- from_url\n",
    "\n",
    "        The main URL the user came from\n",
    "\n",
    "    **note**:\n",
    "\n",
    "    If the retrived URL was in a long format `http://www.facebook.com/l/7AQEFzjSi/1.usa.gov/wfLQtf`\n",
    "\n",
    "     make it appear in the file in a short format like this `www.facebook.com`\n",
    "     \n",
    "    \n",
    "- to_url\n",
    "\n",
    "       The same applied like `to_url`\n",
    "   \n",
    "- city\n",
    "\n",
    "        The city from which the the request was sent\n",
    "    \n",
    "- longitude\n",
    "\n",
    "        The longitude where the request was sent\n",
    "- latitude\n",
    "\n",
    "        The latitude where the request was sent\n",
    "\n",
    "- time_zone\n",
    "        \n",
    "        The time zone that the city follow\n",
    "        \n",
    "- time_in\n",
    "\n",
    "        Time when the request started\n",
    "- time_out\n",
    "        \n",
    "        Time when the request is ended\n",
    "        \n",
    "        \n",
    "**NOTE** :\n",
    "\n",
    "Because that some instances of the file are incomplete, you may encouter some NaN values in your transforamtion. Make sure that the final dataframes have no NaNs at all."
   ]
  },
  {
   "cell_type": "markdown",
   "metadata": {},
   "source": [
    "# Importing data into Dataframe"
   ]
  },
  {
   "cell_type": "code",
   "execution_count": 1,
   "metadata": {},
   "outputs": [],
   "source": [
    "import json \n",
    "import pandas as pd \n",
    "import numpy as np\n",
    "# from pandas.io.json import json_normalize \n",
    "\n",
    "# Now we are going to open a json file using json package\n",
    "# json.load() :: retrieve the file in a dict format\n",
    "\n",
    "# Open the file\n",
    "with open('usa.gov_click_data.json') as f:\n",
    "    # Load file as json\n",
    "    records = [json.loads(line) for line in f]"
   ]
  },
  {
   "cell_type": "code",
   "execution_count": 2,
   "metadata": {},
   "outputs": [
    {
     "data": {
      "text/plain": [
       "{'a': 'Mozilla/5.0 (Windows NT 6.1; WOW64) AppleWebKit/535.11 (KHTML, like Gecko) Chrome/17.0.963.78 Safari/535.11',\n",
       " 'c': 'US',\n",
       " 'nk': 1,\n",
       " 'tz': 'America/New_York',\n",
       " 'gr': 'MA',\n",
       " 'g': 'A6qOVH',\n",
       " 'h': 'wfLQtf',\n",
       " 'l': 'orofrog',\n",
       " 'al': 'en-US,en;q=0.8',\n",
       " 'hh': '1.usa.gov',\n",
       " 'r': 'http://www.facebook.com/l/7AQEFzjSi/1.usa.gov/wfLQtf',\n",
       " 'u': 'http://www.ncbi.nlm.nih.gov/pubmed/22415991',\n",
       " 't': 1331923247,\n",
       " 'hc': 1331822918,\n",
       " 'cy': 'Danvers',\n",
       " 'll': [42.576698, -70.954903]}"
      ]
     },
     "execution_count": 2,
     "metadata": {},
     "output_type": "execute_result"
    }
   ],
   "source": [
    "records[0]"
   ]
  },
  {
   "cell_type": "code",
   "execution_count": 3,
   "metadata": {},
   "outputs": [],
   "source": [
    "df_json = pd.json_normalize(records)"
   ]
  },
  {
   "cell_type": "code",
   "execution_count": 4,
   "metadata": {},
   "outputs": [],
   "source": [
    "column_list = ['a','tz','r','u','t','hc','cy','ll']"
   ]
  },
  {
   "cell_type": "code",
   "execution_count": 5,
   "metadata": {},
   "outputs": [
    {
     "data": {
      "text/plain": [
       "Index(['_heartbeat_', 'al', 'c', 'g', 'gr', 'h', 'hh', 'kw', 'l', 'nk'], dtype='object')"
      ]
     },
     "execution_count": 5,
     "metadata": {},
     "output_type": "execute_result"
    }
   ],
   "source": [
    "df_json.columns.difference(column_list)"
   ]
  },
  {
   "cell_type": "code",
   "execution_count": 6,
   "metadata": {},
   "outputs": [],
   "source": [
    "df_json = df_json.drop(columns=df_json.columns.difference(column_list)).dropna(how='all')"
   ]
  },
  {
   "cell_type": "code",
   "execution_count": 7,
   "metadata": {},
   "outputs": [
    {
     "data": {
      "text/html": [
       "<div>\n",
       "<style scoped>\n",
       "    .dataframe tbody tr th:only-of-type {\n",
       "        vertical-align: middle;\n",
       "    }\n",
       "\n",
       "    .dataframe tbody tr th {\n",
       "        vertical-align: top;\n",
       "    }\n",
       "\n",
       "    .dataframe thead th {\n",
       "        text-align: right;\n",
       "    }\n",
       "</style>\n",
       "<table border=\"1\" class=\"dataframe\">\n",
       "  <thead>\n",
       "    <tr style=\"text-align: right;\">\n",
       "      <th></th>\n",
       "      <th>a</th>\n",
       "      <th>tz</th>\n",
       "      <th>r</th>\n",
       "      <th>u</th>\n",
       "      <th>t</th>\n",
       "      <th>hc</th>\n",
       "      <th>cy</th>\n",
       "      <th>ll</th>\n",
       "    </tr>\n",
       "  </thead>\n",
       "  <tbody>\n",
       "    <tr>\n",
       "      <th>0</th>\n",
       "      <td>Mozilla/5.0 (Windows NT 6.1; WOW64) AppleWebKi...</td>\n",
       "      <td>America/New_York</td>\n",
       "      <td>http://www.facebook.com/l/7AQEFzjSi/1.usa.gov/...</td>\n",
       "      <td>http://www.ncbi.nlm.nih.gov/pubmed/22415991</td>\n",
       "      <td>1.331923e+09</td>\n",
       "      <td>1.331823e+09</td>\n",
       "      <td>Danvers</td>\n",
       "      <td>[42.576698, -70.954903]</td>\n",
       "    </tr>\n",
       "    <tr>\n",
       "      <th>1</th>\n",
       "      <td>GoogleMaps/RochesterNY</td>\n",
       "      <td>America/Denver</td>\n",
       "      <td>http://www.AwareMap.com/</td>\n",
       "      <td>http://www.monroecounty.gov/etc/911/rss.php</td>\n",
       "      <td>1.331923e+09</td>\n",
       "      <td>1.308262e+09</td>\n",
       "      <td>Provo</td>\n",
       "      <td>[40.218102, -111.613297]</td>\n",
       "    </tr>\n",
       "    <tr>\n",
       "      <th>2</th>\n",
       "      <td>Mozilla/4.0 (Windows NT 6.1; MSIE 8.0; Windows...</td>\n",
       "      <td>America/New_York</td>\n",
       "      <td>http://t.co/03elZC4Q</td>\n",
       "      <td>http://boxer.senate.gov/en/press/releases/0316...</td>\n",
       "      <td>1.331923e+09</td>\n",
       "      <td>1.331920e+09</td>\n",
       "      <td>Washington</td>\n",
       "      <td>[38.9007, -77.043098]</td>\n",
       "    </tr>\n",
       "  </tbody>\n",
       "</table>\n",
       "</div>"
      ],
      "text/plain": [
       "                                                   a                tz  \\\n",
       "0  Mozilla/5.0 (Windows NT 6.1; WOW64) AppleWebKi...  America/New_York   \n",
       "1                             GoogleMaps/RochesterNY    America/Denver   \n",
       "2  Mozilla/4.0 (Windows NT 6.1; MSIE 8.0; Windows...  America/New_York   \n",
       "\n",
       "                                                   r  \\\n",
       "0  http://www.facebook.com/l/7AQEFzjSi/1.usa.gov/...   \n",
       "1                           http://www.AwareMap.com/   \n",
       "2                               http://t.co/03elZC4Q   \n",
       "\n",
       "                                                   u             t  \\\n",
       "0        http://www.ncbi.nlm.nih.gov/pubmed/22415991  1.331923e+09   \n",
       "1        http://www.monroecounty.gov/etc/911/rss.php  1.331923e+09   \n",
       "2  http://boxer.senate.gov/en/press/releases/0316...  1.331923e+09   \n",
       "\n",
       "             hc          cy                        ll  \n",
       "0  1.331823e+09     Danvers   [42.576698, -70.954903]  \n",
       "1  1.308262e+09       Provo  [40.218102, -111.613297]  \n",
       "2  1.331920e+09  Washington     [38.9007, -77.043098]  "
      ]
     },
     "execution_count": 7,
     "metadata": {},
     "output_type": "execute_result"
    }
   ],
   "source": [
    "df_json.head(3)"
   ]
  },
  {
   "cell_type": "markdown",
   "metadata": {},
   "source": [
    "# Cleaning data"
   ]
  },
  {
   "cell_type": "markdown",
   "metadata": {},
   "source": [
    "## Extract operating system and web browser"
   ]
  },
  {
   "cell_type": "code",
   "execution_count": 8,
   "metadata": {},
   "outputs": [
    {
     "data": {
      "text/html": [
       "<div>\n",
       "<style scoped>\n",
       "    .dataframe tbody tr th:only-of-type {\n",
       "        vertical-align: middle;\n",
       "    }\n",
       "\n",
       "    .dataframe tbody tr th {\n",
       "        vertical-align: top;\n",
       "    }\n",
       "\n",
       "    .dataframe thead th {\n",
       "        text-align: right;\n",
       "    }\n",
       "</style>\n",
       "<table border=\"1\" class=\"dataframe\">\n",
       "  <thead>\n",
       "    <tr style=\"text-align: right;\">\n",
       "      <th></th>\n",
       "      <th>0</th>\n",
       "    </tr>\n",
       "  </thead>\n",
       "  <tbody>\n",
       "    <tr>\n",
       "      <th>0</th>\n",
       "      <td>Windows NT 6.1; WOW64</td>\n",
       "    </tr>\n",
       "    <tr>\n",
       "      <th>1</th>\n",
       "      <td>NaN</td>\n",
       "    </tr>\n",
       "    <tr>\n",
       "      <th>2</th>\n",
       "      <td>Windows NT 6.1; MSIE 8.0; Windows NT 6.1; WOW6...</td>\n",
       "    </tr>\n",
       "  </tbody>\n",
       "</table>\n",
       "</div>"
      ],
      "text/plain": [
       "                                                   0\n",
       "0                              Windows NT 6.1; WOW64\n",
       "1                                                NaN\n",
       "2  Windows NT 6.1; MSIE 8.0; Windows NT 6.1; WOW6..."
      ]
     },
     "execution_count": 8,
     "metadata": {},
     "output_type": "execute_result"
    }
   ],
   "source": [
    "df_json['a'].str.extract(r'\\(([^)]*)').head(3)"
   ]
  },
  {
   "cell_type": "code",
   "execution_count": 9,
   "metadata": {},
   "outputs": [],
   "source": [
    "df_json['operating_sys'] = df_json['a'].str.extract(r'\\(([^)]*)')"
   ]
  },
  {
   "cell_type": "code",
   "execution_count": 10,
   "metadata": {},
   "outputs": [],
   "source": [
    "df_json['a'] = df_json.a.str.split(' ',n=1).str[0]"
   ]
  },
  {
   "cell_type": "code",
   "execution_count": 11,
   "metadata": {},
   "outputs": [
    {
     "data": {
      "text/html": [
       "<div>\n",
       "<style scoped>\n",
       "    .dataframe tbody tr th:only-of-type {\n",
       "        vertical-align: middle;\n",
       "    }\n",
       "\n",
       "    .dataframe tbody tr th {\n",
       "        vertical-align: top;\n",
       "    }\n",
       "\n",
       "    .dataframe thead th {\n",
       "        text-align: right;\n",
       "    }\n",
       "</style>\n",
       "<table border=\"1\" class=\"dataframe\">\n",
       "  <thead>\n",
       "    <tr style=\"text-align: right;\">\n",
       "      <th></th>\n",
       "      <th>a</th>\n",
       "      <th>operating_sys</th>\n",
       "    </tr>\n",
       "  </thead>\n",
       "  <tbody>\n",
       "    <tr>\n",
       "      <th>0</th>\n",
       "      <td>Mozilla/5.0</td>\n",
       "      <td>Windows NT 6.1; WOW64</td>\n",
       "    </tr>\n",
       "    <tr>\n",
       "      <th>1</th>\n",
       "      <td>GoogleMaps/RochesterNY</td>\n",
       "      <td>NaN</td>\n",
       "    </tr>\n",
       "    <tr>\n",
       "      <th>2</th>\n",
       "      <td>Mozilla/4.0</td>\n",
       "      <td>Windows NT 6.1; MSIE 8.0; Windows NT 6.1; WOW6...</td>\n",
       "    </tr>\n",
       "  </tbody>\n",
       "</table>\n",
       "</div>"
      ],
      "text/plain": [
       "                        a                                      operating_sys\n",
       "0             Mozilla/5.0                              Windows NT 6.1; WOW64\n",
       "1  GoogleMaps/RochesterNY                                                NaN\n",
       "2             Mozilla/4.0  Windows NT 6.1; MSIE 8.0; Windows NT 6.1; WOW6..."
      ]
     },
     "execution_count": 11,
     "metadata": {},
     "output_type": "execute_result"
    }
   ],
   "source": [
    "df_json[['a','operating_sys']].head(3)"
   ]
  },
  {
   "cell_type": "markdown",
   "metadata": {},
   "source": [
    "## Null values"
   ]
  },
  {
   "cell_type": "code",
   "execution_count": 12,
   "metadata": {},
   "outputs": [
    {
     "data": {
      "text/plain": [
       "a                  0\n",
       "tz                 0\n",
       "r                  0\n",
       "u                  0\n",
       "t                  0\n",
       "hc                 0\n",
       "cy               521\n",
       "ll               521\n",
       "operating_sys    192\n",
       "dtype: int64"
      ]
     },
     "execution_count": 12,
     "metadata": {},
     "output_type": "execute_result"
    }
   ],
   "source": [
    "df_json.isna().sum()"
   ]
  },
  {
   "cell_type": "code",
   "execution_count": 13,
   "metadata": {},
   "outputs": [
    {
     "data": {
      "text/plain": [
       "Provo            121\n",
       "White Plains     104\n",
       "Washington        98\n",
       "Palo Alto         68\n",
       "Shrewsbury        46\n",
       "                ... \n",
       "New Iberia         1\n",
       "Addlestone         1\n",
       "New Brunswick      1\n",
       "Managua            1\n",
       "Murfreesboro       1\n",
       "Name: cy, Length: 1014, dtype: int64"
      ]
     },
     "execution_count": 13,
     "metadata": {},
     "output_type": "execute_result"
    }
   ],
   "source": [
    "df_json['cy'].value_counts()"
   ]
  },
  {
   "cell_type": "code",
   "execution_count": 14,
   "metadata": {},
   "outputs": [],
   "source": [
    "df_json.fillna({'cy':'No city','operating_sys':'Unknown OS'}, inplace=True)"
   ]
  },
  {
   "cell_type": "code",
   "execution_count": 15,
   "metadata": {},
   "outputs": [
    {
     "data": {
      "text/plain": [
       "[[42.576698, -70.954903],\n",
       " [40.218102, -111.613297],\n",
       " [38.9007, -77.043098],\n",
       " [-23.549999, -46.616699],\n",
       " [42.286499, -71.714699],\n",
       " [42.286499, -71.714699],\n",
       " [51.116699, 15.2833],\n",
       " nan,\n",
       " nan]"
      ]
     },
     "execution_count": 15,
     "metadata": {},
     "output_type": "execute_result"
    }
   ],
   "source": [
    "df_json['ll'].tolist()[:9]"
   ]
  },
  {
   "cell_type": "code",
   "execution_count": 16,
   "metadata": {},
   "outputs": [],
   "source": [
    "df_json['ll'] = df_json['ll'].apply(lambda x: [0,0] if x is np.nan else x)## Extract operating system and web browser"
   ]
  },
  {
   "cell_type": "markdown",
   "metadata": {},
   "source": [
    "## Splitting longitude and latitude"
   ]
  },
  {
   "cell_type": "code",
   "execution_count": 17,
   "metadata": {},
   "outputs": [],
   "source": [
    "LongLat = pd.DataFrame(df_json['ll'].tolist()).set_index(df_json.index).rename(columns={0:'longitude', 1:'latitude'})"
   ]
  },
  {
   "cell_type": "code",
   "execution_count": 18,
   "metadata": {},
   "outputs": [],
   "source": [
    "df_json.loc[:,['longitude', 'latitude']] = LongLat\n",
    "df_json.drop(columns='ll',inplace=True)"
   ]
  },
  {
   "cell_type": "code",
   "execution_count": 19,
   "metadata": {},
   "outputs": [],
   "source": [
    "columns_mapper = {'a':'web_browser', 'tz':'time_zone','r':'from_url','u':'to_url', 'cy':'city', 't':'time_in', 'hc':'time_out'}"
   ]
  },
  {
   "cell_type": "code",
   "execution_count": 20,
   "metadata": {},
   "outputs": [],
   "source": [
    "df_json.rename(columns=columns_mapper, inplace=True)"
   ]
  },
  {
   "cell_type": "code",
   "execution_count": 21,
   "metadata": {
    "scrolled": true
   },
   "outputs": [
    {
     "data": {
      "text/html": [
       "<div>\n",
       "<style scoped>\n",
       "    .dataframe tbody tr th:only-of-type {\n",
       "        vertical-align: middle;\n",
       "    }\n",
       "\n",
       "    .dataframe tbody tr th {\n",
       "        vertical-align: top;\n",
       "    }\n",
       "\n",
       "    .dataframe thead th {\n",
       "        text-align: right;\n",
       "    }\n",
       "</style>\n",
       "<table border=\"1\" class=\"dataframe\">\n",
       "  <thead>\n",
       "    <tr style=\"text-align: right;\">\n",
       "      <th></th>\n",
       "      <th>web_browser</th>\n",
       "      <th>time_zone</th>\n",
       "      <th>from_url</th>\n",
       "      <th>to_url</th>\n",
       "      <th>time_in</th>\n",
       "      <th>time_out</th>\n",
       "      <th>city</th>\n",
       "      <th>operating_sys</th>\n",
       "      <th>longitude</th>\n",
       "      <th>latitude</th>\n",
       "    </tr>\n",
       "  </thead>\n",
       "  <tbody>\n",
       "    <tr>\n",
       "      <th>0</th>\n",
       "      <td>Mozilla/5.0</td>\n",
       "      <td>America/New_York</td>\n",
       "      <td>http://www.facebook.com/l/7AQEFzjSi/1.usa.gov/...</td>\n",
       "      <td>http://www.ncbi.nlm.nih.gov/pubmed/22415991</td>\n",
       "      <td>1.331923e+09</td>\n",
       "      <td>1.331823e+09</td>\n",
       "      <td>Danvers</td>\n",
       "      <td>Windows NT 6.1; WOW64</td>\n",
       "      <td>42.576698</td>\n",
       "      <td>-70.954903</td>\n",
       "    </tr>\n",
       "    <tr>\n",
       "      <th>1</th>\n",
       "      <td>GoogleMaps/RochesterNY</td>\n",
       "      <td>America/Denver</td>\n",
       "      <td>http://www.AwareMap.com/</td>\n",
       "      <td>http://www.monroecounty.gov/etc/911/rss.php</td>\n",
       "      <td>1.331923e+09</td>\n",
       "      <td>1.308262e+09</td>\n",
       "      <td>Provo</td>\n",
       "      <td>Unknown OS</td>\n",
       "      <td>40.218102</td>\n",
       "      <td>-111.613297</td>\n",
       "    </tr>\n",
       "    <tr>\n",
       "      <th>2</th>\n",
       "      <td>Mozilla/4.0</td>\n",
       "      <td>America/New_York</td>\n",
       "      <td>http://t.co/03elZC4Q</td>\n",
       "      <td>http://boxer.senate.gov/en/press/releases/0316...</td>\n",
       "      <td>1.331923e+09</td>\n",
       "      <td>1.331920e+09</td>\n",
       "      <td>Washington</td>\n",
       "      <td>Windows NT 6.1; MSIE 8.0; Windows NT 6.1; WOW6...</td>\n",
       "      <td>38.900700</td>\n",
       "      <td>-77.043098</td>\n",
       "    </tr>\n",
       "    <tr>\n",
       "      <th>3</th>\n",
       "      <td>Mozilla/5.0</td>\n",
       "      <td>America/Sao_Paulo</td>\n",
       "      <td>direct</td>\n",
       "      <td>http://apod.nasa.gov/apod/ap120312.html</td>\n",
       "      <td>1.331923e+09</td>\n",
       "      <td>1.331923e+09</td>\n",
       "      <td>Braz</td>\n",
       "      <td>Macintosh; Intel Mac OS X 10_6_8</td>\n",
       "      <td>-23.549999</td>\n",
       "      <td>-46.616699</td>\n",
       "    </tr>\n",
       "    <tr>\n",
       "      <th>4</th>\n",
       "      <td>Mozilla/5.0</td>\n",
       "      <td>America/New_York</td>\n",
       "      <td>http://www.shrewsbury-ma.gov/selco/</td>\n",
       "      <td>http://www.shrewsbury-ma.gov/egov/gallery/1341...</td>\n",
       "      <td>1.331923e+09</td>\n",
       "      <td>1.273672e+09</td>\n",
       "      <td>Shrewsbury</td>\n",
       "      <td>Windows NT 6.1; WOW64</td>\n",
       "      <td>42.286499</td>\n",
       "      <td>-71.714699</td>\n",
       "    </tr>\n",
       "  </tbody>\n",
       "</table>\n",
       "</div>"
      ],
      "text/plain": [
       "              web_browser          time_zone  \\\n",
       "0             Mozilla/5.0   America/New_York   \n",
       "1  GoogleMaps/RochesterNY     America/Denver   \n",
       "2             Mozilla/4.0   America/New_York   \n",
       "3             Mozilla/5.0  America/Sao_Paulo   \n",
       "4             Mozilla/5.0   America/New_York   \n",
       "\n",
       "                                            from_url  \\\n",
       "0  http://www.facebook.com/l/7AQEFzjSi/1.usa.gov/...   \n",
       "1                           http://www.AwareMap.com/   \n",
       "2                               http://t.co/03elZC4Q   \n",
       "3                                             direct   \n",
       "4                http://www.shrewsbury-ma.gov/selco/   \n",
       "\n",
       "                                              to_url       time_in  \\\n",
       "0        http://www.ncbi.nlm.nih.gov/pubmed/22415991  1.331923e+09   \n",
       "1        http://www.monroecounty.gov/etc/911/rss.php  1.331923e+09   \n",
       "2  http://boxer.senate.gov/en/press/releases/0316...  1.331923e+09   \n",
       "3            http://apod.nasa.gov/apod/ap120312.html  1.331923e+09   \n",
       "4  http://www.shrewsbury-ma.gov/egov/gallery/1341...  1.331923e+09   \n",
       "\n",
       "       time_out        city  \\\n",
       "0  1.331823e+09     Danvers   \n",
       "1  1.308262e+09       Provo   \n",
       "2  1.331920e+09  Washington   \n",
       "3  1.331923e+09        Braz   \n",
       "4  1.273672e+09  Shrewsbury   \n",
       "\n",
       "                                       operating_sys  longitude    latitude  \n",
       "0                              Windows NT 6.1; WOW64  42.576698  -70.954903  \n",
       "1                                         Unknown OS  40.218102 -111.613297  \n",
       "2  Windows NT 6.1; MSIE 8.0; Windows NT 6.1; WOW6...  38.900700  -77.043098  \n",
       "3                   Macintosh; Intel Mac OS X 10_6_8 -23.549999  -46.616699  \n",
       "4                              Windows NT 6.1; WOW64  42.286499  -71.714699  "
      ]
     },
     "execution_count": 21,
     "metadata": {},
     "output_type": "execute_result"
    }
   ],
   "source": [
    "df_json.head(5)"
   ]
  },
  {
   "cell_type": "markdown",
   "metadata": {},
   "source": [
    "## Short form URL"
   ]
  },
  {
   "cell_type": "code",
   "execution_count": 22,
   "metadata": {},
   "outputs": [
    {
     "data": {
      "text/plain": [
       "0            [http:, , www.facebook.com]\n",
       "1            [http:, , www.AwareMap.com]\n",
       "2                        [http:, , t.co]\n",
       "3                               [direct]\n",
       "4       [http:, , www.shrewsbury-ma.gov]\n",
       "                      ...               \n",
       "3555                            [direct]\n",
       "3556         [http:, , www.facebook.com]\n",
       "3557         [http:, , www.AwareMap.com]\n",
       "3558                            [direct]\n",
       "3559                     [http:, , t.co]\n",
       "Name: from_url, Length: 3440, dtype: object"
      ]
     },
     "execution_count": 22,
     "metadata": {},
     "output_type": "execute_result"
    }
   ],
   "source": [
    "df_json['from_url'].str.split('/').str[0:3]"
   ]
  },
  {
   "cell_type": "code",
   "execution_count": 23,
   "metadata": {},
   "outputs": [],
   "source": [
    "def url_extract(x):\n",
    "    \n",
    "    y = x.split('/')\n",
    "    \n",
    "    if len(y) < 3 :\n",
    "        return x\n",
    "    elif len(y[2]) <= 6:\n",
    "        return x\n",
    "    else:\n",
    "        return '/'.join(y[:3])"
   ]
  },
  {
   "cell_type": "code",
   "execution_count": 24,
   "metadata": {},
   "outputs": [
    {
     "data": {
      "text/plain": [
       "array(['http://www.facebook.com', 'http://www.AwareMap.com',\n",
       "       'http://t.co/03elZC4Q', 'direct', 'http://www.shrewsbury-ma.gov',\n",
       "       'http://plus.url.google.com', 'http://t.co/o1Pd0WeV',\n",
       "       'http://t.co/ND7SoPyo', 'http://forum2.hkgolden.com',\n",
       "       'http://t.co/6Cx4ROLs', 'http://t.co/5xlp0B34',\n",
       "       'http://t.co/1ghGl5Pl', 'http://mobile.twitter.com',\n",
       "       'http://www.aashtojournal.org', 'http://m.facebook.com',\n",
       "       'http://t.co/wgctD0rd', 'http://t.co/ovz0wT2O', 'http://lalaf.com',\n",
       "       'http://t.co/ihUhQF1r', 'https://twitter.com',\n",
       "       'http://t.co/J6qInqf7', 'http://stocktwits.com',\n",
       "       'http://t.co/lY3ZPJaN', 'http://t.co/6xAUIwJK',\n",
       "       'http://t.co/eWtdEjjO', 'http://t.co/301GoVqI',\n",
       "       'http://t.co/UKGBxj29',\n",
       "       'http://36ohk6dgmcd1n-c.c.yom.mail.yahoo.net',\n",
       "       'http://t.co/4tq2Lnj8', 'http://www.srh.noaa.gov',\n",
       "       'http://t.co/x3LYPXyR', 'http://t.co/h6PbevjL',\n",
       "       'http://t.co/yZP1pbGs', 'http://t.co/1LpYtOpY',\n",
       "       'http://t.co/i4mbPCcf', 'http://t.co/heipk8Yn',\n",
       "       'http://t.co/D8ibRiEa', 'http://yandex.ru',\n",
       "       'http://nationalmap.gov', 'http://t.co/hVJbTxoY',\n",
       "       'http://t.co/s2zXjXQG', 'http://t.co/fwPCJhAw',\n",
       "       'http://www.huffingtonpost.com', 'http://t.co/LMjED2o1',\n",
       "       'http://t.co/Mo6MA3VU', 'http://t.co/EenULvIU',\n",
       "       'http://t.co/l9wbjKe0', 'http://www.barackobama.com',\n",
       "       'http://abclocal.go.com', 'http://t.co/LCNLMOJn',\n",
       "       'http://t.co/g4n56J61', 'http://t.co/Z9eP7bL',\n",
       "       'http://t.co/5RxFymkB', 'http://t.co/L7ojXrg9',\n",
       "       'http://www.nationalreview.com', 'http://t.co/akubeH95',\n",
       "       'http://www.usa.gov', 'http://t.co/AR1s2y09',\n",
       "       'http://t.co/kAMPLa6p', 'http://roosterteeth.com',\n",
       "       'http://t.co/PjjgyoU6', 'http://hootsuite.com',\n",
       "       'http://t.co/t0Udjkrm', 'http://www.skihood.com',\n",
       "       'http://addins.wrex.com', 'http://t.co/WJJmfdud',\n",
       "       'http://t.co/uFS19XYB', 'http://t.co/Dx6VAUNm',\n",
       "       'http://today.lbl.gov', 'http://www.groupon.com',\n",
       "       'http://t.co/sbbNQx9O', 'http://t.co/lwZWlywi',\n",
       "       'http://t.co/eGljE8yW', 'http://t.co/zwD58kKm',\n",
       "       'http://bl129w.blu129.mail.live.com', 'http://t.co/Itza5prh',\n",
       "       'http://nix.nasa.gov', 'http://togetter.com',\n",
       "       'http://www.nysenate.gov', 'http://www.worldcommunitygrid.org',\n",
       "       'http://www.politico.com', 'http://t.co/jXfXrW8E',\n",
       "       'http://twitter.com', 'http://www.rurdev.usda.gov',\n",
       "       'http://t.co/DRHiYvXX', 'http://becomeagamedesigner.info',\n",
       "       'http://t.co/gXJihSIj', 'http://fightbac.org',\n",
       "       'http://t.co/ZtsPbWgF', 'http://www.sec.gov',\n",
       "       'http://t.co/5cH6E4J0', 'http://t.co/FbvjyPMV',\n",
       "       'http://mail.nctc.net', 'http://t.co/ZqRuQC8i',\n",
       "       'http://t.co/lLTOhIWd', 'http://t.co/UIhZMzY6',\n",
       "       'http://t.co/KefLcHHb', 'http://t.co/zAf5pZxO',\n",
       "       'http://www.langleynewmedia.com', 'http://links.govdelivery.com',\n",
       "       'http://t.co/ZSGJ1erp', 'http://t.co/9DdpK7AB',\n",
       "       'http://t.co/de3Wcmmt', 'http://selco.shrewsbury-ma.gov',\n",
       "       'http://www.google.com', 'http://www.sltrib.com',\n",
       "       'http://t.co/T2Evi6ct', 'http://t.co/qJWMUtWF',\n",
       "       'http://bl162w.blu162.mail.live.com', 'http://t.co/hkpQDVvM',\n",
       "       'http://messages.finance.yahoo.com', 'http://www.pia.org',\n",
       "       'http://t.co/g6pmXaOb', 'http://t.co/29Sj0xfj',\n",
       "       'http://t.co/fEnqbzRR', 'http://us.mc1205.mail.yahoo.com',\n",
       "       'http://www.mtsu.edu', 'http://newworldinvestor.com',\n",
       "       'http://t.co/AkSxFMwx', 'http://t.co/lx9DcwFG',\n",
       "       'http://t.co/BZWswjOn', 'http://www.conferencealerts.com',\n",
       "       'http://t.co/5iiZtitJ', 'http://t.co/2yQjWaRu',\n",
       "       'http://t.co/CxGHAwDE', 'http://t.co/6MyeXLgF',\n",
       "       'http://www.cbs8.com', 'http://t.co/dnADqY4f',\n",
       "       'http://t.co/UaquwmIr', 'http://t.co/FB5cSOBA',\n",
       "       'http://www.healthfinder.gov', 'http://t.co/gngHVfhT',\n",
       "       'http://t.co/dnWaL3OG', 'http://www.nccpr.org',\n",
       "       'http://t.co/TaPxisaF', 'http://t.co/Jy9cgvol',\n",
       "       'http://investorshub.advfn.com', 'http://t.co/pf45PvVR',\n",
       "       'http://t.co/vHuV2IzG', 'http://www.cincinnati-oh.gov',\n",
       "       'http://www.dailypaul.com', 'http://www.cleveland.com',\n",
       "       'http://t.co/WTLZeQqp', 'http://mail.verizon.com',\n",
       "       'http://t.co/HlZ8B6cu', 'http://t.co/RLn5mS3Q', 'http://iava.org',\n",
       "       'http://support.accuchinesmanufacturing.net',\n",
       "       'http://www.connect.facebook.com', 'http://t.co/OA1VURR6',\n",
       "       'http://www.indy.gov', 'http://t.co/VTzHkee1',\n",
       "       'http://www.linkedin.com', 'http://www.army.mil',\n",
       "       'http://t.co/NWzfEed1', 'http://t.co/Rc25Spr8',\n",
       "       'http://t.co/yoWo2fM8', 'http://www.ronpauldelegates.com',\n",
       "       'http://t.co/1dT6kjDR', 'http://t.co/RmoGFjZz',\n",
       "       'http://t.co/XX7ltRQX', 'http://t.co/uGxhOJp7',\n",
       "       'http://t.co/e4wnuwcl', 'http://t.co/jLmSuynX',\n",
       "       'http://t.co/uotTBUII', 'http://t.co/l16apDbA',\n",
       "       'http://t.co/4n0r9oCH', 'http://t.co/umA2SlVv',\n",
       "       'http://hispanicnewsnetwork.blogspot.com', 'http://t.co/vhOGAP7u',\n",
       "       'http://www.bizjournals.com', 'http://www.automd.com',\n",
       "       'http://t.co/NgYmEuAU', 'http://www.mint.com',\n",
       "       'http://answers.usa.gov', 'http://t.co/0zpWSx8z',\n",
       "       'http://t.co/chODw49H', 'http://mobile.latimes.com',\n",
       "       'http://t.co/S46L2iQv', 'http://t.co/HJkk2PRx',\n",
       "       'http://itunes.apple.com', 'http://bitly.com',\n",
       "       'http://www.dbhddjobs.com', 'http://www.gazette.com',\n",
       "       'http://t.co/lGf66aSe', 'http://t.co/pCLFQ90r',\n",
       "       'http://t.co/8NxvrvUs', 'http://t.co/WAkhWJcx',\n",
       "       'http://seekingalpha.com', 'http://www.cranfordsoccer.net',\n",
       "       'http://t.co/lgqmIDU2', 'http://t.co/sBZViUXw',\n",
       "       'http://bl155w.blu155.mail.live.com', 'http://www.fightbac.org',\n",
       "       'http://t.co/9JWO28CZ', 'http://www.lifestorynet.com',\n",
       "       'http://yourlife.usatoday.com', 'http://t.co/HUzfGyyR',\n",
       "       'http://survivethearmageddon.com', 'http://publications.usa.gov',\n",
       "       'http://iconfactory.com', 'http://t.co/5cjj9X7x',\n",
       "       'http://t.co/njQ5EEOW', 'http://t.co/VNLcX8ZB',\n",
       "       'http://t.co/XE2jg6mk', 'http://t.co/cAGUTKcp',\n",
       "       'http://t.co/HAj79PJq', 'http://t.co/m5hzS9CH',\n",
       "       'http://t.co/7hfWnixj', 'http://t.co/yPQCdPtr',\n",
       "       'http://t.co/VjkVKuWn', 'http://t.co/fLMINUKR',\n",
       "       'http://hosted.ap.org', 'http://t.co/JLAYPwkv',\n",
       "       'http://t.co/H0f3eaeY', 'http://t.co/g1VKE8zS',\n",
       "       'http://maydayidahominecomplex.com', 'http://t.co/qdBA24H6',\n",
       "       'http://t.co/VgH6mnVN', 'http://dailyupdate.transportation.org',\n",
       "       'http://sz0105.wc.mail.comcast.net', 'http://www.sciencedaily.com',\n",
       "       'http://t.co/TXTrhBKe', 'http://t.co/tlTsiLjP',\n",
       "       'http://www.airwarriors.com', 'http://artefactory.nirewiki.com',\n",
       "       'http://t.co/Y8vUtcjy', 'http://t.co/L4bkFMTd',\n",
       "       'http://t.co/LNlwkZ1C', 'http://www.complinet.com',\n",
       "       'http://t.co/XTzP2HP5', 'http://www.citizencorps.gov',\n",
       "       'http://www.nasa.gov', 'http://t.co/N9Uj9iav',\n",
       "       'http://fanscape.com', 'http://t.co/Di8o7Y80',\n",
       "       'http://t.co/x0R4GBVm', 'http://t.co/fSfZZcBQ',\n",
       "       'http://t.co/7EYA6uML', 'http://favstar.fm',\n",
       "       'http://t.co/Kvbmno8q', 'http://t.co/ClQilyCS',\n",
       "       'http://www.reddit.com', 'http://www.virginiamemory.com',\n",
       "       'http://addins.kwwl.com', 'http://t.co/JjugVLEm',\n",
       "       'http://t.co/QL0OmtUr', 'http://yt-gadget003.appspot.com',\n",
       "       'http://t.co/VQW3gI88', 'http://t.co/JD45zDZk',\n",
       "       'http://t.co/YTqrMqNg', 'http://es.wikipedia.org',\n",
       "       'http://news.tn.gov', 'http://www.latimes.com',\n",
       "       'http://t.co/MJI346qh', 'http://t.co/IORJdxKF',\n",
       "       'http://www.nea.org', 'http://webpages.charter.net',\n",
       "       'http://t.co/3HQr529e', 'http://t.co/9zemztv4',\n",
       "       'http://www.longtermcare.gov', 'http://www.panthersubs.com',\n",
       "       'http://t.co/NKwo9oDD', 'http://t.co/AtugJvHU',\n",
       "       'http://t.co/rEWtdD7m', 'http://nexus.od.nih.gov',\n",
       "       'http://t.co/J3pA7UEK', 'http://www.savewealth.com',\n",
       "       'http://colemanpublishing.com', 'http://t.co/8phkaCCi',\n",
       "       'http://t.co/nn20vRYw', 'http://t.co/s7f04uvX',\n",
       "       'http://t.co/4JoYVOCh', 'http://t.co/Oqjmv74f',\n",
       "       'http://libguides.law.missouri.edu', 'http://t.co/kwP7tV6P',\n",
       "       'http://t.co/DUXWF1dO', 'http://t.co/kJCkNgGq',\n",
       "       'http://t.co/PPOgiDD5', 'http://www.shoeman.org',\n",
       "       'http://t.co/eQTuGBs7', 'http://t.co/WiG3tj4t',\n",
       "       'http://luznocaminho.net', 'http://www.swaglikeme.com',\n",
       "       'http://t.co/mhupt8dx', 'http://t.co/3LD1amzA',\n",
       "       'http://projects.propublica.org', 'http://www.lifescript.com',\n",
       "       'http://t.co/cq1QdOqn', 'http://www.sfenvironment.org',\n",
       "       'http://t.co/OAlh01eU', 'http://t.co/I1oM1gUa',\n",
       "       'http://t.co/k864Y853', 'http://t.co/qiNRAIZR',\n",
       "       'http://www2.carilion.com', 'http://uftlv.com',\n",
       "       'http://www.lincolndailynews.com', 'http://www.rif.org',\n",
       "       'http://t.co/BWzHpXuA', 'http://t.co/vvF7al0H',\n",
       "       'http://t.co/aMJV34ld', 'http://www.commercialappeal.com',\n",
       "       'http://www.sfgate.com', 'http://t.co/WE0dO179',\n",
       "       'http://t.co/XonIvWBX', 'http://t.co/DnBQGolS',\n",
       "       'http://www.jk-forum.com', 'http://www.theblackriver.net',\n",
       "       'http://t.co/XEFe0U5v', 'http://t.co/hKzwNgHs',\n",
       "       'http://t.co/SJ84pRYp', 'http://espacio2012.blogspot.com',\n",
       "       'http://t.co/x6GXAJbK', 'http://www.youtube.com',\n",
       "       'http://t.co/MjGzKzZh', 'http://t.co/QXolGNpF',\n",
       "       'http://t.co/SL6PMN0R', 'http://t.co/A26yX99i',\n",
       "       'http://t.co/IOzgHPxw', 'http://t.co/oiNz3Dx4',\n",
       "       'http://t.co/w3ClI5g9', 'http://t.co/pc0WJLCd',\n",
       "       'http://americasgreatoutdoors.tumblr.com', 'http://t.co/nTjyqMvC',\n",
       "       'http://t.co/dmlBlYo1', 'http://bl133w.blu133.mail.live.com',\n",
       "       'http://t.co/ZQOROtBK', 'http://t.co/cctXpHRt',\n",
       "       'http://t.co/6RGvNutu', 'http://t.co/phrF0b1C',\n",
       "       'http://t.co/R9pY4JtF', 'http://t.co/RL7r8brS',\n",
       "       'http://t.co/QvZvIOaG', 'http://www.craigslist.org',\n",
       "       'http://drugster.info', 'http://fsweb.wo.fs.fed.us',\n",
       "       'http://www.twibes.com', 'http://t.co/nerpvFrm',\n",
       "       'http://t.co/ZWnp30Xx', 'http://us.mc1302.mail.yahoo.com',\n",
       "       'http://t.co/Cu24lqQu', 'http://t.co/YZyOFida',\n",
       "       'http://t.co/uQOhjZwI', 'http://www.davincihysterectomy.com',\n",
       "       'http://t.co/nT7y8d8T', 'http://t.co/ZKIWjvR',\n",
       "       'http://t.co/55AxDN4J', 'http://t.co/WfehJuFY',\n",
       "       'http://citizencorps.gov', 'http://t.co/MhRTvPuz',\n",
       "       'http://www.ncsha.org', 'http://vtcemail.s3.amazonaws.com',\n",
       "       'http://t.co/hqYIds1', 'http://statistically-funny.blogspot.com',\n",
       "       'http://t.co/mBCydQRV', 'http://ebooksgratis.com.br',\n",
       "       'http://t.co/0sDCswkD', 'http://t.co/1M4k81Sd',\n",
       "       'http://agency.governmentjobs.com', 'http://t.co/vsP8vbYV',\n",
       "       'http://www.insurancefraud.org', 'http://t.co/DUtU67tc',\n",
       "       'http://t.co/1vUMvlZU', 'http://www.quantumdiaries.org',\n",
       "       'http://t.co/I80TZt5K', 'http://en.wikipedia.org',\n",
       "       'http://t.co/jiMtmpcA', 'http://www.the-computers.com',\n",
       "       'http://t.co/yk6AnUj', 'http://1.usa.gov', 'http://t.co/dVgOs3MN',\n",
       "       'http://t.co/aIxLfnUU', 'http://news.nurse.com',\n",
       "       'http://blog.goo.ne.jp', 'http://storify.com',\n",
       "       'http://t.co/cJg8hVzJ', 'http://site.themarriagebed.com',\n",
       "       'http://t.co/KJISTmF9', 'http://www.lymphomation.org',\n",
       "       'http://t.co/o9kh01wS', 'http://www.jpl.nasa.gov',\n",
       "       'http://t.co/RJO06YY8', 'http://t.co/xyxb3zNp',\n",
       "       'http://t.co/A8TJyibE', 'http://t.co/OEEEvwjU'], dtype=object)"
      ]
     },
     "execution_count": 24,
     "metadata": {},
     "output_type": "execute_result"
    }
   ],
   "source": [
    "df_json['from_url'].apply(url_extract).unique()"
   ]
  },
  {
   "cell_type": "code",
   "execution_count": 25,
   "metadata": {},
   "outputs": [],
   "source": [
    "df_json[['from_url','to_url']] = df_json[['from_url','to_url']].applymap(url_extract)"
   ]
  },
  {
   "cell_type": "code",
   "execution_count": 26,
   "metadata": {},
   "outputs": [],
   "source": [
    "df_json = df_json[['web_browser','operating_sys', 'from_url', 'to_url', 'city', 'longitude', 'latitude', 'time_zone', 'time_in', 'time_out']]"
   ]
  },
  {
   "cell_type": "code",
   "execution_count": 27,
   "metadata": {},
   "outputs": [
    {
     "data": {
      "text/html": [
       "<div>\n",
       "<style scoped>\n",
       "    .dataframe tbody tr th:only-of-type {\n",
       "        vertical-align: middle;\n",
       "    }\n",
       "\n",
       "    .dataframe tbody tr th {\n",
       "        vertical-align: top;\n",
       "    }\n",
       "\n",
       "    .dataframe thead th {\n",
       "        text-align: right;\n",
       "    }\n",
       "</style>\n",
       "<table border=\"1\" class=\"dataframe\">\n",
       "  <thead>\n",
       "    <tr style=\"text-align: right;\">\n",
       "      <th></th>\n",
       "      <th>web_browser</th>\n",
       "      <th>operating_sys</th>\n",
       "      <th>from_url</th>\n",
       "      <th>to_url</th>\n",
       "      <th>city</th>\n",
       "      <th>longitude</th>\n",
       "      <th>latitude</th>\n",
       "      <th>time_zone</th>\n",
       "      <th>time_in</th>\n",
       "      <th>time_out</th>\n",
       "    </tr>\n",
       "  </thead>\n",
       "  <tbody>\n",
       "    <tr>\n",
       "      <th>0</th>\n",
       "      <td>Mozilla/5.0</td>\n",
       "      <td>Windows NT 6.1; WOW64</td>\n",
       "      <td>http://www.facebook.com</td>\n",
       "      <td>http://www.ncbi.nlm.nih.gov</td>\n",
       "      <td>Danvers</td>\n",
       "      <td>42.576698</td>\n",
       "      <td>-70.954903</td>\n",
       "      <td>America/New_York</td>\n",
       "      <td>1.331923e+09</td>\n",
       "      <td>1.331823e+09</td>\n",
       "    </tr>\n",
       "    <tr>\n",
       "      <th>1</th>\n",
       "      <td>GoogleMaps/RochesterNY</td>\n",
       "      <td>Unknown OS</td>\n",
       "      <td>http://www.AwareMap.com</td>\n",
       "      <td>http://www.monroecounty.gov</td>\n",
       "      <td>Provo</td>\n",
       "      <td>40.218102</td>\n",
       "      <td>-111.613297</td>\n",
       "      <td>America/Denver</td>\n",
       "      <td>1.331923e+09</td>\n",
       "      <td>1.308262e+09</td>\n",
       "    </tr>\n",
       "    <tr>\n",
       "      <th>2</th>\n",
       "      <td>Mozilla/4.0</td>\n",
       "      <td>Windows NT 6.1; MSIE 8.0; Windows NT 6.1; WOW6...</td>\n",
       "      <td>http://t.co/03elZC4Q</td>\n",
       "      <td>http://boxer.senate.gov</td>\n",
       "      <td>Washington</td>\n",
       "      <td>38.900700</td>\n",
       "      <td>-77.043098</td>\n",
       "      <td>America/New_York</td>\n",
       "      <td>1.331923e+09</td>\n",
       "      <td>1.331920e+09</td>\n",
       "    </tr>\n",
       "    <tr>\n",
       "      <th>3</th>\n",
       "      <td>Mozilla/5.0</td>\n",
       "      <td>Macintosh; Intel Mac OS X 10_6_8</td>\n",
       "      <td>direct</td>\n",
       "      <td>http://apod.nasa.gov</td>\n",
       "      <td>Braz</td>\n",
       "      <td>-23.549999</td>\n",
       "      <td>-46.616699</td>\n",
       "      <td>America/Sao_Paulo</td>\n",
       "      <td>1.331923e+09</td>\n",
       "      <td>1.331923e+09</td>\n",
       "    </tr>\n",
       "    <tr>\n",
       "      <th>4</th>\n",
       "      <td>Mozilla/5.0</td>\n",
       "      <td>Windows NT 6.1; WOW64</td>\n",
       "      <td>http://www.shrewsbury-ma.gov</td>\n",
       "      <td>http://www.shrewsbury-ma.gov</td>\n",
       "      <td>Shrewsbury</td>\n",
       "      <td>42.286499</td>\n",
       "      <td>-71.714699</td>\n",
       "      <td>America/New_York</td>\n",
       "      <td>1.331923e+09</td>\n",
       "      <td>1.273672e+09</td>\n",
       "    </tr>\n",
       "    <tr>\n",
       "      <th>...</th>\n",
       "      <td>...</td>\n",
       "      <td>...</td>\n",
       "      <td>...</td>\n",
       "      <td>...</td>\n",
       "      <td>...</td>\n",
       "      <td>...</td>\n",
       "      <td>...</td>\n",
       "      <td>...</td>\n",
       "      <td>...</td>\n",
       "      <td>...</td>\n",
       "    </tr>\n",
       "    <tr>\n",
       "      <th>3555</th>\n",
       "      <td>Mozilla/4.0</td>\n",
       "      <td>Windows NT 6.1; MSIE 9.0; Windows NT 6.1</td>\n",
       "      <td>direct</td>\n",
       "      <td>http://www.fda.gov</td>\n",
       "      <td>Paramus</td>\n",
       "      <td>40.944500</td>\n",
       "      <td>-74.070000</td>\n",
       "      <td>America/New_York</td>\n",
       "      <td>1.331927e+09</td>\n",
       "      <td>1.301298e+09</td>\n",
       "    </tr>\n",
       "    <tr>\n",
       "      <th>3556</th>\n",
       "      <td>Mozilla/5.0</td>\n",
       "      <td>Windows NT 5.1</td>\n",
       "      <td>http://www.facebook.com</td>\n",
       "      <td>http://www.okc.gov</td>\n",
       "      <td>Oklahoma City</td>\n",
       "      <td>35.471500</td>\n",
       "      <td>-97.518997</td>\n",
       "      <td>America/Chicago</td>\n",
       "      <td>1.331927e+09</td>\n",
       "      <td>1.307530e+09</td>\n",
       "    </tr>\n",
       "    <tr>\n",
       "      <th>3557</th>\n",
       "      <td>GoogleMaps/RochesterNY</td>\n",
       "      <td>Unknown OS</td>\n",
       "      <td>http://www.AwareMap.com</td>\n",
       "      <td>http://www.monroecounty.gov</td>\n",
       "      <td>Provo</td>\n",
       "      <td>40.218102</td>\n",
       "      <td>-111.613297</td>\n",
       "      <td>America/Denver</td>\n",
       "      <td>1.331927e+09</td>\n",
       "      <td>1.308262e+09</td>\n",
       "    </tr>\n",
       "    <tr>\n",
       "      <th>3558</th>\n",
       "      <td>GoogleProducer</td>\n",
       "      <td>Unknown OS</td>\n",
       "      <td>direct</td>\n",
       "      <td>http://www.ahrq.gov</td>\n",
       "      <td>Mountain View</td>\n",
       "      <td>37.419201</td>\n",
       "      <td>-122.057404</td>\n",
       "      <td>America/Los_Angeles</td>\n",
       "      <td>1.331927e+09</td>\n",
       "      <td>1.327529e+09</td>\n",
       "    </tr>\n",
       "    <tr>\n",
       "      <th>3559</th>\n",
       "      <td>Mozilla/4.0</td>\n",
       "      <td>Windows NT 6.1; MSIE 8.0; Windows NT 6.1; Trid...</td>\n",
       "      <td>http://t.co/OEEEvwjU</td>\n",
       "      <td>http://herndon-va.gov</td>\n",
       "      <td>Mc Lean</td>\n",
       "      <td>38.935799</td>\n",
       "      <td>-77.162102</td>\n",
       "      <td>America/New_York</td>\n",
       "      <td>1.331927e+09</td>\n",
       "      <td>1.312898e+09</td>\n",
       "    </tr>\n",
       "  </tbody>\n",
       "</table>\n",
       "<p>3440 rows × 10 columns</p>\n",
       "</div>"
      ],
      "text/plain": [
       "                 web_browser  \\\n",
       "0                Mozilla/5.0   \n",
       "1     GoogleMaps/RochesterNY   \n",
       "2                Mozilla/4.0   \n",
       "3                Mozilla/5.0   \n",
       "4                Mozilla/5.0   \n",
       "...                      ...   \n",
       "3555             Mozilla/4.0   \n",
       "3556             Mozilla/5.0   \n",
       "3557  GoogleMaps/RochesterNY   \n",
       "3558          GoogleProducer   \n",
       "3559             Mozilla/4.0   \n",
       "\n",
       "                                          operating_sys  \\\n",
       "0                                 Windows NT 6.1; WOW64   \n",
       "1                                            Unknown OS   \n",
       "2     Windows NT 6.1; MSIE 8.0; Windows NT 6.1; WOW6...   \n",
       "3                      Macintosh; Intel Mac OS X 10_6_8   \n",
       "4                                 Windows NT 6.1; WOW64   \n",
       "...                                                 ...   \n",
       "3555           Windows NT 6.1; MSIE 9.0; Windows NT 6.1   \n",
       "3556                                     Windows NT 5.1   \n",
       "3557                                         Unknown OS   \n",
       "3558                                         Unknown OS   \n",
       "3559  Windows NT 6.1; MSIE 8.0; Windows NT 6.1; Trid...   \n",
       "\n",
       "                          from_url                        to_url  \\\n",
       "0          http://www.facebook.com   http://www.ncbi.nlm.nih.gov   \n",
       "1          http://www.AwareMap.com   http://www.monroecounty.gov   \n",
       "2             http://t.co/03elZC4Q       http://boxer.senate.gov   \n",
       "3                           direct          http://apod.nasa.gov   \n",
       "4     http://www.shrewsbury-ma.gov  http://www.shrewsbury-ma.gov   \n",
       "...                            ...                           ...   \n",
       "3555                        direct            http://www.fda.gov   \n",
       "3556       http://www.facebook.com            http://www.okc.gov   \n",
       "3557       http://www.AwareMap.com   http://www.monroecounty.gov   \n",
       "3558                        direct           http://www.ahrq.gov   \n",
       "3559          http://t.co/OEEEvwjU         http://herndon-va.gov   \n",
       "\n",
       "               city  longitude    latitude            time_zone       time_in  \\\n",
       "0           Danvers  42.576698  -70.954903     America/New_York  1.331923e+09   \n",
       "1             Provo  40.218102 -111.613297       America/Denver  1.331923e+09   \n",
       "2        Washington  38.900700  -77.043098     America/New_York  1.331923e+09   \n",
       "3              Braz -23.549999  -46.616699    America/Sao_Paulo  1.331923e+09   \n",
       "4        Shrewsbury  42.286499  -71.714699     America/New_York  1.331923e+09   \n",
       "...             ...        ...         ...                  ...           ...   \n",
       "3555        Paramus  40.944500  -74.070000     America/New_York  1.331927e+09   \n",
       "3556  Oklahoma City  35.471500  -97.518997      America/Chicago  1.331927e+09   \n",
       "3557          Provo  40.218102 -111.613297       America/Denver  1.331927e+09   \n",
       "3558  Mountain View  37.419201 -122.057404  America/Los_Angeles  1.331927e+09   \n",
       "3559        Mc Lean  38.935799  -77.162102     America/New_York  1.331927e+09   \n",
       "\n",
       "          time_out  \n",
       "0     1.331823e+09  \n",
       "1     1.308262e+09  \n",
       "2     1.331920e+09  \n",
       "3     1.331923e+09  \n",
       "4     1.273672e+09  \n",
       "...            ...  \n",
       "3555  1.301298e+09  \n",
       "3556  1.307530e+09  \n",
       "3557  1.308262e+09  \n",
       "3558  1.327529e+09  \n",
       "3559  1.312898e+09  \n",
       "\n",
       "[3440 rows x 10 columns]"
      ]
     },
     "execution_count": 27,
     "metadata": {},
     "output_type": "execute_result"
    }
   ],
   "source": [
    "df_json"
   ]
  },
  {
   "cell_type": "code",
   "execution_count": 28,
   "metadata": {},
   "outputs": [],
   "source": [
    "df_json.to_csv('web-api.csv')"
   ]
  },
  {
   "cell_type": "code",
   "execution_count": null,
   "metadata": {},
   "outputs": [],
   "source": []
  }
 ],
 "metadata": {
  "kernelspec": {
   "display_name": "Python 3",
   "language": "python",
   "name": "python3"
  },
  "language_info": {
   "codemirror_mode": {
    "name": "ipython",
    "version": 3
   },
   "file_extension": ".py",
   "mimetype": "text/x-python",
   "name": "python",
   "nbconvert_exporter": "python",
   "pygments_lexer": "ipython3",
   "version": "3.8.5"
  }
 },
 "nbformat": 4,
 "nbformat_minor": 2
}
